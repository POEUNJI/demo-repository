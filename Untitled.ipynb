{
 "cells": [
  {
   "cell_type": "code",
   "execution_count": 1,
   "id": "487fb9bf",
   "metadata": {},
   "outputs": [
    {
     "name": "stdout",
     "output_type": "stream",
     "text": [
      "/home/work/po/nanoGPT-master\n",
      "Overriding config with config/train_eunji.py:\n",
      "out_dir = 'out-eunji'\n",
      "eval_interval = 10\n",
      "log_interval = 1\n",
      "\n",
      "always_save_checkpoint = False\n",
      "\n",
      "dataset = '은지말'\n",
      "gradient_accumulation_steps = 1\n",
      "batch_size = 8\n",
      "block_size = 64\n",
      "n_layer = 4\n",
      "n_head = 4\n",
      "n_embd = 128\n",
      "max_iters = 500\n",
      "lr_decay_iters = 500\n",
      "dropout = 0.1\n",
      "\n",
      "learning_rate = 1e-3\n",
      "device = 'cpu'  # 은지는 지금 IPU 세션이니까 CPU로 지정해\n",
      "compile = False\n",
      "eval_iters = 20\n",
      "\n",
      "\n",
      "\n",
      "tokens per iteration will be: 512\n",
      "Initializing a new model from scratch\n",
      "defaulting to vocab_size of GPT-2 to 50304 (50257 rounded up for efficiency)\n",
      "number of parameters: 7.23M\n",
      "/usr/local/lib/python3.10/dist-packages/torch/cuda/amp/grad_scaler.py:125: UserWarning: torch.cuda.amp.GradScaler is enabled, but CUDA is not available.  Disabling.\n",
      "  warnings.warn(\n",
      "num decayed parameter tensors: 18, with 7,233,536 parameters\n",
      "num non-decayed parameter tensors: 9, with 1,152 parameters\n",
      "using fused AdamW: False\n",
      "Traceback (most recent call last):\n",
      "  File \"/home/work/po/nanoGPT-master/train.py\", line 250, in <module>\n",
      "    X, Y = get_batch('train') # fetch the very first batch\n",
      "  File \"/home/work/po/nanoGPT-master/train.py\", line 120, in get_batch\n",
      "    data = np.memmap(os.path.join(data_dir, 'train.bin'), dtype=np.uint16, mode='r')\n",
      "  File \"/usr/local/lib/python3.10/dist-packages/numpy/core/memmap.py\", line 228, in __new__\n",
      "    f_ctx = open(os_fspath(filename), ('r' if mode == 'c' else mode)+'b')\n",
      "FileNotFoundError: [Errno 2] No such file or directory: 'data/은지말/train.bin'\n"
     ]
    }
   ],
   "source": [
    "%cd /home/work/po/nanoGPT-master\n",
    "!python3 train.py config/train_eunji.py\n"
   ]
  },
  {
   "cell_type": "code",
   "execution_count": 2,
   "id": "0d8f67f6",
   "metadata": {},
   "outputs": [
    {
     "ename": "SyntaxError",
     "evalue": "invalid syntax (3878172659.py, line 1)",
     "output_type": "error",
     "traceback": [
      "\u001b[0;36m  Cell \u001b[0;32mIn[2], line 1\u001b[0;36m\u001b[0m\n\u001b[0;31m    cd ~/po/nanoGPT-master/data\u001b[0m\n\u001b[0m       ^\u001b[0m\n\u001b[0;31mSyntaxError\u001b[0m\u001b[0;31m:\u001b[0m invalid syntax\n"
     ]
    }
   ],
   "source": [
    "cd ~/po/nanoGPT-master/data\n",
    "mkdir 은지말\n",
    "mv 은지말.bin 은지말/train.bin\n",
    "mv 은지말_vocab.pkl 은지말/meta.pkl\n"
   ]
  },
  {
   "cell_type": "code",
   "execution_count": 3,
   "id": "313b345c",
   "metadata": {},
   "outputs": [
    {
     "name": "stdout",
     "output_type": "stream",
     "text": [
      "mv: cannot stat '은지말.bin': No such file or directory\r\n"
     ]
    }
   ],
   "source": [
    "!cd /home/work/po/nanoGPT-master/data && \\\n",
    "mkdir 은지말 && \\\n",
    "mv 은지말.bin 은지말/train.bin && \\\n",
    "mv 은지말_vocab.pkl 은지말/meta.pkl\n"
   ]
  },
  {
   "cell_type": "code",
   "execution_count": 4,
   "id": "c76c506f",
   "metadata": {},
   "outputs": [
    {
     "name": "stdout",
     "output_type": "stream",
     "text": [
      "/home/work/po/nanoGPT-master\n",
      "Overriding config with config/train_eunji.py:\n",
      "out_dir = 'out-eunji'\n",
      "eval_interval = 10\n",
      "log_interval = 1\n",
      "\n",
      "always_save_checkpoint = False\n",
      "\n",
      "dataset = '은지말'\n",
      "gradient_accumulation_steps = 1\n",
      "batch_size = 8\n",
      "block_size = 64\n",
      "n_layer = 4\n",
      "n_head = 4\n",
      "n_embd = 128\n",
      "max_iters = 500\n",
      "lr_decay_iters = 500\n",
      "dropout = 0.1\n",
      "\n",
      "learning_rate = 1e-3\n",
      "device = 'cpu'  # 은지는 지금 IPU 세션이니까 CPU로 지정해\n",
      "compile = False\n",
      "eval_iters = 20\n",
      "\n",
      "\n",
      "\n",
      "tokens per iteration will be: 512\n",
      "Initializing a new model from scratch\n",
      "defaulting to vocab_size of GPT-2 to 50304 (50257 rounded up for efficiency)\n",
      "number of parameters: 7.23M\n",
      "/usr/local/lib/python3.10/dist-packages/torch/cuda/amp/grad_scaler.py:125: UserWarning: torch.cuda.amp.GradScaler is enabled, but CUDA is not available.  Disabling.\n",
      "  warnings.warn(\n",
      "num decayed parameter tensors: 18, with 7,233,536 parameters\n",
      "num non-decayed parameter tensors: 9, with 1,152 parameters\n",
      "using fused AdamW: False\n",
      "Traceback (most recent call last):\n",
      "  File \"/home/work/po/nanoGPT-master/train.py\", line 250, in <module>\n",
      "    X, Y = get_batch('train') # fetch the very first batch\n",
      "  File \"/home/work/po/nanoGPT-master/train.py\", line 120, in get_batch\n",
      "    data = np.memmap(os.path.join(data_dir, 'train.bin'), dtype=np.uint16, mode='r')\n",
      "  File \"/usr/local/lib/python3.10/dist-packages/numpy/core/memmap.py\", line 228, in __new__\n",
      "    f_ctx = open(os_fspath(filename), ('r' if mode == 'c' else mode)+'b')\n",
      "FileNotFoundError: [Errno 2] No such file or directory: 'data/은지말/train.bin'\n"
     ]
    }
   ],
   "source": [
    "%cd /home/work/po/nanoGPT-master\n",
    "!python3 train.py config/train_eunji.py\n"
   ]
  },
  {
   "cell_type": "code",
   "execution_count": 5,
   "id": "67f8f67f",
   "metadata": {},
   "outputs": [
    {
     "name": "stdout",
     "output_type": "stream",
     "text": [
      "data\t     prepare.py   shakespeare_char  은지말.txt\r\n",
      "openwebtext  shakespeare  은지말\r\n"
     ]
    }
   ],
   "source": [
    "!ls /home/work/po/nanoGPT-master/data\n"
   ]
  },
  {
   "cell_type": "code",
   "execution_count": 6,
   "id": "e97db407",
   "metadata": {},
   "outputs": [],
   "source": [
    "!ls /home/work/po/nanoGPT-master/data/은지말\n"
   ]
  },
  {
   "cell_type": "code",
   "execution_count": 7,
   "id": "608ec3f9",
   "metadata": {},
   "outputs": [
    {
     "name": "stdout",
     "output_type": "stream",
     "text": [
      "mv: cannot stat '은지말.bin': No such file or directory\r\n"
     ]
    }
   ],
   "source": [
    "!cd /home/work/po/nanoGPT-master/data && \\\n",
    "mkdir -p 은지말 && \\\n",
    "mv 은지말.bin 은지말/train.bin && \\\n",
    "mv 은지말_vocab.pkl 은지말/meta.pkl\n"
   ]
  },
  {
   "cell_type": "code",
   "execution_count": 8,
   "id": "22a18eb2",
   "metadata": {},
   "outputs": [
    {
     "name": "stdout",
     "output_type": "stream",
     "text": [
      "/home/work/po/nanoGPT-master/data/data/은지말.bin\n",
      "/home/work/po/nanoGPT-master/data/data/은지말_vocab.pkl\n"
     ]
    }
   ],
   "source": [
    "!find /home/work/po/nanoGPT-master -name \"*.bin\"\n",
    "!find /home/work/po/nanoGPT-master -name \"*.pkl\"\n"
   ]
  },
  {
   "cell_type": "code",
   "execution_count": 9,
   "id": "c6378207",
   "metadata": {},
   "outputs": [],
   "source": [
    "!mkdir -p /home/work/po/nanoGPT-master/data/은지말 && \\\n",
    "mv /home/work/po/nanoGPT-master/data/data/은지말.bin /home/work/po/nanoGPT-master/data/은지말/train.bin && \\\n",
    "mv /home/work/po/nanoGPT-master/data/data/은지말_vocab.pkl /home/work/po/nanoGPT-master/data/은지말/meta.pkl\n"
   ]
  },
  {
   "cell_type": "code",
   "execution_count": 10,
   "id": "7c959eee",
   "metadata": {},
   "outputs": [
    {
     "name": "stdout",
     "output_type": "stream",
     "text": [
      "/home/work/po/nanoGPT-master\n",
      "Overriding config with config/train_eunji.py:\n",
      "out_dir = 'out-eunji'\n",
      "eval_interval = 10\n",
      "log_interval = 1\n",
      "\n",
      "always_save_checkpoint = False\n",
      "\n",
      "dataset = '은지말'\n",
      "gradient_accumulation_steps = 1\n",
      "batch_size = 8\n",
      "block_size = 64\n",
      "n_layer = 4\n",
      "n_head = 4\n",
      "n_embd = 128\n",
      "max_iters = 500\n",
      "lr_decay_iters = 500\n",
      "dropout = 0.1\n",
      "\n",
      "learning_rate = 1e-3\n",
      "device = 'cpu'  # 은지는 지금 IPU 세션이니까 CPU로 지정해\n",
      "compile = False\n",
      "eval_iters = 20\n",
      "\n",
      "\n",
      "\n",
      "tokens per iteration will be: 512\n",
      "Traceback (most recent call last):\n",
      "  File \"/home/work/po/nanoGPT-master/train.py\", line 142, in <module>\n",
      "    meta = pickle.load(f)\n",
      "EOFError: Ran out of input\n"
     ]
    }
   ],
   "source": [
    "%cd /home/work/po/nanoGPT-master\n",
    "!python3 train.py config/train_eunji.py\n"
   ]
  },
  {
   "cell_type": "code",
   "execution_count": 11,
   "id": "71bbb05f",
   "metadata": {},
   "outputs": [
    {
     "ename": "FileNotFoundError",
     "evalue": "[Errno 2] No such file or directory: '/home/work/po/nanoGPT-master/data/data/은지말_vocab.pkl'",
     "output_type": "error",
     "traceback": [
      "\u001b[0;31m---------------------------------------------------------------------------\u001b[0m",
      "\u001b[0;31mFileNotFoundError\u001b[0m                         Traceback (most recent call last)",
      "Cell \u001b[0;32mIn[11], line 4\u001b[0m\n\u001b[1;32m      1\u001b[0m \u001b[38;5;28;01mimport\u001b[39;00m \u001b[38;5;21;01mpickle\u001b[39;00m\n\u001b[1;32m      3\u001b[0m \u001b[38;5;66;03m# 기존 vocab 파일 로드\u001b[39;00m\n\u001b[0;32m----> 4\u001b[0m \u001b[38;5;28;01mwith\u001b[39;00m \u001b[38;5;28;43mopen\u001b[39;49m\u001b[43m(\u001b[49m\u001b[38;5;124;43m\"\u001b[39;49m\u001b[38;5;124;43m/home/work/po/nanoGPT-master/data/data/은지말_vocab.pkl\u001b[39;49m\u001b[38;5;124;43m\"\u001b[39;49m\u001b[43m,\u001b[49m\u001b[43m \u001b[49m\u001b[38;5;124;43m\"\u001b[39;49m\u001b[38;5;124;43mrb\u001b[39;49m\u001b[38;5;124;43m\"\u001b[39;49m\u001b[43m)\u001b[49m \u001b[38;5;28;01mas\u001b[39;00m f:\n\u001b[1;32m      5\u001b[0m     stoi, itos \u001b[38;5;241m=\u001b[39m pickle\u001b[38;5;241m.\u001b[39mload(f)\n\u001b[1;32m      7\u001b[0m meta \u001b[38;5;241m=\u001b[39m {\n\u001b[1;32m      8\u001b[0m     \u001b[38;5;124m\"\u001b[39m\u001b[38;5;124mvocab_size\u001b[39m\u001b[38;5;124m\"\u001b[39m: \u001b[38;5;28mlen\u001b[39m(stoi),\n\u001b[1;32m      9\u001b[0m     \u001b[38;5;124m\"\u001b[39m\u001b[38;5;124mitos\u001b[39m\u001b[38;5;124m\"\u001b[39m: itos,\n\u001b[1;32m     10\u001b[0m     \u001b[38;5;124m\"\u001b[39m\u001b[38;5;124mstoi\u001b[39m\u001b[38;5;124m\"\u001b[39m: stoi\n\u001b[1;32m     11\u001b[0m }\n",
      "File \u001b[0;32m/usr/local/lib/python3.10/dist-packages/IPython/core/interactiveshell.py:286\u001b[0m, in \u001b[0;36m_modified_open\u001b[0;34m(file, *args, **kwargs)\u001b[0m\n\u001b[1;32m    279\u001b[0m \u001b[38;5;28;01mif\u001b[39;00m file \u001b[38;5;129;01min\u001b[39;00m {\u001b[38;5;241m0\u001b[39m, \u001b[38;5;241m1\u001b[39m, \u001b[38;5;241m2\u001b[39m}:\n\u001b[1;32m    280\u001b[0m     \u001b[38;5;28;01mraise\u001b[39;00m \u001b[38;5;167;01mValueError\u001b[39;00m(\n\u001b[1;32m    281\u001b[0m         \u001b[38;5;124mf\u001b[39m\u001b[38;5;124m\"\u001b[39m\u001b[38;5;124mIPython won\u001b[39m\u001b[38;5;124m'\u001b[39m\u001b[38;5;124mt let you open fd=\u001b[39m\u001b[38;5;132;01m{\u001b[39;00mfile\u001b[38;5;132;01m}\u001b[39;00m\u001b[38;5;124m by default \u001b[39m\u001b[38;5;124m\"\u001b[39m\n\u001b[1;32m    282\u001b[0m         \u001b[38;5;124m\"\u001b[39m\u001b[38;5;124mas it is likely to crash IPython. If you know what you are doing, \u001b[39m\u001b[38;5;124m\"\u001b[39m\n\u001b[1;32m    283\u001b[0m         \u001b[38;5;124m\"\u001b[39m\u001b[38;5;124myou can use builtins\u001b[39m\u001b[38;5;124m'\u001b[39m\u001b[38;5;124m open.\u001b[39m\u001b[38;5;124m\"\u001b[39m\n\u001b[1;32m    284\u001b[0m     )\n\u001b[0;32m--> 286\u001b[0m \u001b[38;5;28;01mreturn\u001b[39;00m \u001b[43mio_open\u001b[49m\u001b[43m(\u001b[49m\u001b[43mfile\u001b[49m\u001b[43m,\u001b[49m\u001b[43m \u001b[49m\u001b[38;5;241;43m*\u001b[39;49m\u001b[43margs\u001b[49m\u001b[43m,\u001b[49m\u001b[43m \u001b[49m\u001b[38;5;241;43m*\u001b[39;49m\u001b[38;5;241;43m*\u001b[39;49m\u001b[43mkwargs\u001b[49m\u001b[43m)\u001b[49m\n",
      "\u001b[0;31mFileNotFoundError\u001b[0m: [Errno 2] No such file or directory: '/home/work/po/nanoGPT-master/data/data/은지말_vocab.pkl'"
     ]
    }
   ],
   "source": [
    "import pickle\n",
    "\n",
    "# 기존 vocab 파일 로드\n",
    "with open(\"/home/work/po/nanoGPT-master/data/data/은지말_vocab.pkl\", \"rb\") as f:\n",
    "    stoi, itos = pickle.load(f)\n",
    "\n",
    "meta = {\n",
    "    \"vocab_size\": len(stoi),\n",
    "    \"itos\": itos,\n",
    "    \"stoi\": stoi\n",
    "}\n",
    "\n",
    "# 새롭게 meta.pkl 생성\n",
    "with open(\"/home/work/po/nanoGPT-master/data/은지말/meta.pkl\", \"wb\") as f:\n",
    "    pickle.dump(meta, f)\n",
    "\n",
    "print(\"✅ meta.pkl 재생성 완료!\")\n"
   ]
  },
  {
   "cell_type": "code",
   "execution_count": 12,
   "id": "abd17a72",
   "metadata": {},
   "outputs": [
    {
     "name": "stdout",
     "output_type": "stream",
     "text": [
      "/home/work/po/nanoGPT-master\n",
      "Overriding config with config/train_eunji.py:\n",
      "out_dir = 'out-eunji'\n",
      "eval_interval = 10\n",
      "log_interval = 1\n",
      "\n",
      "always_save_checkpoint = False\n",
      "\n",
      "dataset = '은지말'\n",
      "gradient_accumulation_steps = 1\n",
      "batch_size = 8\n",
      "block_size = 64\n",
      "n_layer = 4\n",
      "n_head = 4\n",
      "n_embd = 128\n",
      "max_iters = 500\n",
      "lr_decay_iters = 500\n",
      "dropout = 0.1\n",
      "\n",
      "learning_rate = 1e-3\n",
      "device = 'cpu'  # 은지는 지금 IPU 세션이니까 CPU로 지정해\n",
      "compile = False\n",
      "eval_iters = 20\n",
      "\n",
      "\n",
      "\n",
      "tokens per iteration will be: 512\n",
      "Traceback (most recent call last):\n",
      "  File \"/home/work/po/nanoGPT-master/train.py\", line 142, in <module>\n",
      "    meta = pickle.load(f)\n",
      "EOFError: Ran out of input\n"
     ]
    }
   ],
   "source": [
    "%cd /home/work/po/nanoGPT-master\n",
    "!python3 train.py config/train_eunji.py\n"
   ]
  },
  {
   "cell_type": "code",
   "execution_count": 13,
   "id": "65ab5e31",
   "metadata": {},
   "outputs": [
    {
     "ename": "SyntaxError",
     "evalue": "invalid syntax (4105877028.py, line 1)",
     "output_type": "error",
     "traceback": [
      "\u001b[0;36m  Cell \u001b[0;32mIn[13], line 1\u001b[0;36m\u001b[0m\n\u001b[0;31m    FileNotFoundError: No such file or directory: '/home/work/po/nanoGPT-master/data/data/은지말_vocab.pkl'\u001b[0m\n\u001b[0m                          ^\u001b[0m\n\u001b[0;31mSyntaxError\u001b[0m\u001b[0;31m:\u001b[0m invalid syntax\n"
     ]
    }
   ],
   "source": [
    "FileNotFoundError: No such file or directory: '/home/work/po/nanoGPT-master/data/data/은지말_vocab.pkl'\n"
   ]
  },
  {
   "cell_type": "code",
   "execution_count": 14,
   "id": "3cc02839",
   "metadata": {},
   "outputs": [
    {
     "ename": "EOFError",
     "evalue": "Ran out of input",
     "output_type": "error",
     "traceback": [
      "\u001b[0;31m---------------------------------------------------------------------------\u001b[0m",
      "\u001b[0;31mEOFError\u001b[0m                                  Traceback (most recent call last)",
      "Cell \u001b[0;32mIn[14], line 5\u001b[0m\n\u001b[1;32m      3\u001b[0m \u001b[38;5;66;03m# 새 위치에서 파일 로드\u001b[39;00m\n\u001b[1;32m      4\u001b[0m \u001b[38;5;28;01mwith\u001b[39;00m \u001b[38;5;28mopen\u001b[39m(\u001b[38;5;124m\"\u001b[39m\u001b[38;5;124m/home/work/po/nanoGPT-master/data/은지말/meta.pkl\u001b[39m\u001b[38;5;124m\"\u001b[39m, \u001b[38;5;124m\"\u001b[39m\u001b[38;5;124mrb\u001b[39m\u001b[38;5;124m\"\u001b[39m) \u001b[38;5;28;01mas\u001b[39;00m f:\n\u001b[0;32m----> 5\u001b[0m     meta \u001b[38;5;241m=\u001b[39m \u001b[43mpickle\u001b[49m\u001b[38;5;241;43m.\u001b[39;49m\u001b[43mload\u001b[49m\u001b[43m(\u001b[49m\u001b[43mf\u001b[49m\u001b[43m)\u001b[49m\n\u001b[1;32m      7\u001b[0m \u001b[38;5;28mprint\u001b[39m(\u001b[38;5;124m\"\u001b[39m\u001b[38;5;124m📦 meta.pkl 로드 완료!\u001b[39m\u001b[38;5;124m\"\u001b[39m)\n",
      "\u001b[0;31mEOFError\u001b[0m: Ran out of input"
     ]
    }
   ],
   "source": [
    "import pickle\n",
    "\n",
    "# 새 위치에서 파일 로드\n",
    "with open(\"/home/work/po/nanoGPT-master/data/은지말/meta.pkl\", \"rb\") as f:\n",
    "    meta = pickle.load(f)\n",
    "\n",
    "print(\"📦 meta.pkl 로드 완료!\")\n"
   ]
  },
  {
   "cell_type": "code",
   "execution_count": 15,
   "id": "6ba39334",
   "metadata": {},
   "outputs": [
    {
     "name": "stdout",
     "output_type": "stream",
     "text": [
      "✅ meta.pkl 생성 완료!\n"
     ]
    }
   ],
   "source": [
    "import pickle\n",
    "\n",
    "# 직접 정의해줘야 해! 이건 예시 문자셋, 네가 사용한 전체 문자에 따라 바꿔도 돼\n",
    "chars = sorted(list(set(\"은지: 포야 오늘 기분이 어때? 푸흐헤헿ㅋㅎㅎㅋㅋ\")))  # 예시\n",
    "vocab_size = len(chars)\n",
    "stoi = {ch: i for i, ch in enumerate(chars)}\n",
    "itos = {i: ch for i, ch in enumerate(chars)}\n",
    "\n",
    "meta = {\n",
    "    \"vocab_size\": vocab_size,\n",
    "    \"stoi\": stoi,\n",
    "    \"itos\": itos\n",
    "}\n",
    "\n",
    "# 저장\n",
    "with open(\"/home/work/po/nanoGPT-master/data/은지말/meta.pkl\", \"wb\") as f:\n",
    "    pickle.dump(meta, f)\n",
    "\n",
    "print(\"✅ meta.pkl 생성 완료!\")\n"
   ]
  },
  {
   "cell_type": "code",
   "execution_count": 16,
   "id": "46c76929",
   "metadata": {},
   "outputs": [
    {
     "name": "stdout",
     "output_type": "stream",
     "text": [
      "/home/work/po/nanoGPT-master\n",
      "Overriding config with config/train_eunji.py:\n",
      "out_dir = 'out-eunji'\n",
      "eval_interval = 10\n",
      "log_interval = 1\n",
      "\n",
      "always_save_checkpoint = False\n",
      "\n",
      "dataset = '은지말'\n",
      "gradient_accumulation_steps = 1\n",
      "batch_size = 8\n",
      "block_size = 64\n",
      "n_layer = 4\n",
      "n_head = 4\n",
      "n_embd = 128\n",
      "max_iters = 500\n",
      "lr_decay_iters = 500\n",
      "dropout = 0.1\n",
      "\n",
      "learning_rate = 1e-3\n",
      "device = 'cpu'  # 은지는 지금 IPU 세션이니까 CPU로 지정해\n",
      "compile = False\n",
      "eval_iters = 20\n",
      "\n",
      "\n",
      "\n",
      "tokens per iteration will be: 512\n",
      "found vocab_size = 20 (inside data/은지말/meta.pkl)\n",
      "Initializing a new model from scratch\n",
      "number of parameters: 0.79M\n",
      "/usr/local/lib/python3.10/dist-packages/torch/cuda/amp/grad_scaler.py:125: UserWarning: torch.cuda.amp.GradScaler is enabled, but CUDA is not available.  Disabling.\n",
      "  warnings.warn(\n",
      "num decayed parameter tensors: 18, with 797,184 parameters\n",
      "num non-decayed parameter tensors: 9, with 1,152 parameters\n",
      "using fused AdamW: False\n",
      "Traceback (most recent call last):\n",
      "  File \"/home/work/po/nanoGPT-master/train.py\", line 250, in <module>\n",
      "    X, Y = get_batch('train') # fetch the very first batch\n",
      "  File \"/home/work/po/nanoGPT-master/train.py\", line 120, in get_batch\n",
      "    data = np.memmap(os.path.join(data_dir, 'train.bin'), dtype=np.uint16, mode='r')\n",
      "  File \"/usr/local/lib/python3.10/dist-packages/numpy/core/memmap.py\", line 267, in __new__\n",
      "    mm = mmap.mmap(fid.fileno(), bytes, access=acc, offset=start)\n",
      "ValueError: cannot mmap an empty file\n"
     ]
    }
   ],
   "source": [
    "%cd /home/work/po/nanoGPT-master\n",
    "!python3 train.py config/train_eunji.py\n"
   ]
  },
  {
   "cell_type": "code",
   "execution_count": 17,
   "id": "606f45f5",
   "metadata": {},
   "outputs": [
    {
     "ename": "ValueError",
     "evalue": "byte must be in range(0, 256)",
     "output_type": "error",
     "traceback": [
      "\u001b[0;31m---------------------------------------------------------------------------\u001b[0m",
      "\u001b[0;31mValueError\u001b[0m                                Traceback (most recent call last)",
      "Cell \u001b[0;32mIn[17], line 28\u001b[0m\n\u001b[1;32m     26\u001b[0m train_ids \u001b[38;5;241m=\u001b[39m [stoi[c] \u001b[38;5;28;01mfor\u001b[39;00m c \u001b[38;5;129;01min\u001b[39;00m data]\n\u001b[1;32m     27\u001b[0m \u001b[38;5;28;01mwith\u001b[39;00m \u001b[38;5;28mopen\u001b[39m(os\u001b[38;5;241m.\u001b[39mpath\u001b[38;5;241m.\u001b[39mjoin(output_dir, \u001b[38;5;124m\"\u001b[39m\u001b[38;5;124mtrain.bin\u001b[39m\u001b[38;5;124m\"\u001b[39m), \u001b[38;5;124m\"\u001b[39m\u001b[38;5;124mwb\u001b[39m\u001b[38;5;124m\"\u001b[39m) \u001b[38;5;28;01mas\u001b[39;00m f:\n\u001b[0;32m---> 28\u001b[0m     f\u001b[38;5;241m.\u001b[39mwrite(\u001b[38;5;28;43mbytearray\u001b[39;49m\u001b[43m(\u001b[49m\u001b[43mtrain_ids\u001b[49m\u001b[43m)\u001b[49m)\n\u001b[1;32m     30\u001b[0m \u001b[38;5;28mprint\u001b[39m(\u001b[38;5;124m\"\u001b[39m\u001b[38;5;124m✅ train.bin + meta.pkl 생성 완료!\u001b[39m\u001b[38;5;124m\"\u001b[39m)\n",
      "\u001b[0;31mValueError\u001b[0m: byte must be in range(0, 256)"
     ]
    }
   ],
   "source": [
    "import os\n",
    "import pickle\n",
    "\n",
    "input_file_path = \"data/은지말.txt\"\n",
    "output_dir = \"data/은지말\"\n",
    "os.makedirs(output_dir, exist_ok=True)\n",
    "\n",
    "with open(input_file_path, \"r\", encoding=\"utf-8\") as f:\n",
    "    data = f.read()\n",
    "\n",
    "chars = sorted(list(set(data)))\n",
    "vocab_size = len(chars)\n",
    "stoi = { ch:i for i,ch in enumerate(chars) }\n",
    "itos = { i:ch for i,ch in enumerate(chars) }\n",
    "\n",
    "# meta 저장\n",
    "meta = {\n",
    "    \"vocab_size\": vocab_size,\n",
    "    \"itos\": itos,\n",
    "    \"stoi\": stoi,\n",
    "}\n",
    "with open(os.path.join(output_dir, \"meta.pkl\"), \"wb\") as f:\n",
    "    pickle.dump(meta, f)\n",
    "\n",
    "# train.bin 저장\n",
    "train_ids = [stoi[c] for c in data]\n",
    "with open(os.path.join(output_dir, \"train.bin\"), \"wb\") as f:\n",
    "    f.write(bytearray(train_ids))\n",
    "\n",
    "print(\"✅ train.bin + meta.pkl 생성 완료!\")\n"
   ]
  },
  {
   "cell_type": "code",
   "execution_count": 18,
   "id": "695880de",
   "metadata": {},
   "outputs": [
    {
     "name": "stdout",
     "output_type": "stream",
     "text": [
      "/home/work/po/nanoGPT-master\n",
      "Overriding config with config/train_eunji.py:\n",
      "out_dir = 'out-eunji'\n",
      "eval_interval = 10\n",
      "log_interval = 1\n",
      "\n",
      "always_save_checkpoint = False\n",
      "\n",
      "dataset = '은지말'\n",
      "gradient_accumulation_steps = 1\n",
      "batch_size = 8\n",
      "block_size = 64\n",
      "n_layer = 4\n",
      "n_head = 4\n",
      "n_embd = 128\n",
      "max_iters = 500\n",
      "lr_decay_iters = 500\n",
      "dropout = 0.1\n",
      "\n",
      "learning_rate = 1e-3\n",
      "device = 'cpu'  # 은지는 지금 IPU 세션이니까 CPU로 지정해\n",
      "compile = False\n",
      "eval_iters = 20\n",
      "\n",
      "\n",
      "\n",
      "tokens per iteration will be: 512\n",
      "found vocab_size = 746 (inside data/은지말/meta.pkl)\n",
      "Initializing a new model from scratch\n",
      "number of parameters: 0.88M\n",
      "/usr/local/lib/python3.10/dist-packages/torch/cuda/amp/grad_scaler.py:125: UserWarning: torch.cuda.amp.GradScaler is enabled, but CUDA is not available.  Disabling.\n",
      "  warnings.warn(\n",
      "num decayed parameter tensors: 18, with 890,112 parameters\n",
      "num non-decayed parameter tensors: 9, with 1,152 parameters\n",
      "using fused AdamW: False\n",
      "Traceback (most recent call last):\n",
      "  File \"/home/work/po/nanoGPT-master/train.py\", line 250, in <module>\n",
      "    X, Y = get_batch('train') # fetch the very first batch\n",
      "  File \"/home/work/po/nanoGPT-master/train.py\", line 120, in get_batch\n",
      "    data = np.memmap(os.path.join(data_dir, 'train.bin'), dtype=np.uint16, mode='r')\n",
      "  File \"/usr/local/lib/python3.10/dist-packages/numpy/core/memmap.py\", line 267, in __new__\n",
      "    mm = mmap.mmap(fid.fileno(), bytes, access=acc, offset=start)\n",
      "ValueError: cannot mmap an empty file\n"
     ]
    }
   ],
   "source": [
    "%cd /home/work/po/nanoGPT-master\n",
    "!python3 train.py config/train_eunji.py\n"
   ]
  },
  {
   "cell_type": "code",
   "execution_count": null,
   "id": "51b62b03",
   "metadata": {},
   "outputs": [],
   "source": []
  }
 ],
 "metadata": {
  "kernelspec": {
   "display_name": "PyTorch 2.1 (NGC 23.09/Python 3.10) on Backend.AI",
   "language": "python",
   "name": "python3"
  },
  "language_info": {
   "codemirror_mode": {
    "name": "ipython",
    "version": 3
   },
   "file_extension": ".py",
   "mimetype": "text/x-python",
   "name": "python",
   "nbconvert_exporter": "python",
   "pygments_lexer": "ipython3",
   "version": "3.10.12"
  }
 },
 "nbformat": 4,
 "nbformat_minor": 5
}
