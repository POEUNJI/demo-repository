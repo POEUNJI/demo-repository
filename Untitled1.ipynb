{
 "cells": [
  {
   "cell_type": "code",
   "execution_count": 1,
   "id": "e12a05e0",
   "metadata": {},
   "outputs": [
    {
     "name": "stdout",
     "output_type": "stream",
     "text": [
      "총 문자 수: 25476, 고유 문자 수: 746\n"
     ]
    },
    {
     "ename": "ValueError",
     "evalue": "byte must be in range(0, 256)",
     "output_type": "error",
     "traceback": [
      "\u001b[0;31m---------------------------------------------------------------------------\u001b[0m",
      "\u001b[0;31mValueError\u001b[0m                                Traceback (most recent call last)",
      "Cell \u001b[0;32mIn[1], line 33\u001b[0m\n\u001b[1;32m     31\u001b[0m train_ids \u001b[38;5;241m=\u001b[39m [stoi[c] \u001b[38;5;28;01mfor\u001b[39;00m c \u001b[38;5;129;01min\u001b[39;00m data]\n\u001b[1;32m     32\u001b[0m \u001b[38;5;28;01mwith\u001b[39;00m \u001b[38;5;28mopen\u001b[39m(os\u001b[38;5;241m.\u001b[39mpath\u001b[38;5;241m.\u001b[39mjoin(output_dir, \u001b[38;5;124m\"\u001b[39m\u001b[38;5;124mtrain.bin\u001b[39m\u001b[38;5;124m\"\u001b[39m), \u001b[38;5;124m\"\u001b[39m\u001b[38;5;124mwb\u001b[39m\u001b[38;5;124m\"\u001b[39m) \u001b[38;5;28;01mas\u001b[39;00m f:\n\u001b[0;32m---> 33\u001b[0m     f\u001b[38;5;241m.\u001b[39mwrite(\u001b[38;5;28;43mbytearray\u001b[39;49m\u001b[43m(\u001b[49m\u001b[43mtrain_ids\u001b[49m\u001b[43m)\u001b[49m)\n\u001b[1;32m     35\u001b[0m \u001b[38;5;28mprint\u001b[39m(\u001b[38;5;124m\"\u001b[39m\u001b[38;5;124m✅ train.bin + meta.pkl 생성 완료!\u001b[39m\u001b[38;5;124m\"\u001b[39m)\n",
      "\u001b[0;31mValueError\u001b[0m: byte must be in range(0, 256)"
     ]
    }
   ],
   "source": [
    "import os\n",
    "import pickle\n",
    "\n",
    "# 1. 입력 파일\n",
    "input_file_path = \"data/은지말.txt\"\n",
    "output_dir = \"data/은지말\"\n",
    "os.makedirs(output_dir, exist_ok=True)\n",
    "\n",
    "# 2. 데이터 읽기\n",
    "with open(input_file_path, \"r\", encoding=\"utf-8\") as f:\n",
    "    data = f.read()\n",
    "\n",
    "# 3. 문자셋 만들기\n",
    "chars = sorted(list(set(data)))\n",
    "vocab_size = len(chars)\n",
    "print(f\"총 문자 수: {len(data)}, 고유 문자 수: {vocab_size}\")\n",
    "\n",
    "stoi = { ch:i for i,ch in enumerate(chars) }\n",
    "itos = { i:ch for i,ch in enumerate(chars) }\n",
    "\n",
    "# 4. 메타 저장\n",
    "meta = {\n",
    "    \"vocab_size\": vocab_size,\n",
    "    \"stoi\": stoi,\n",
    "    \"itos\": itos\n",
    "}\n",
    "with open(os.path.join(output_dir, \"meta.pkl\"), \"wb\") as f:\n",
    "    pickle.dump(meta, f)\n",
    "\n",
    "# 5. train.bin 저장\n",
    "train_ids = [stoi[c] for c in data]\n",
    "with open(os.path.join(output_dir, \"train.bin\"), \"wb\") as f:\n",
    "    f.write(bytearray(train_ids))\n",
    "\n",
    "print(\"✅ train.bin + meta.pkl 생성 완료!\")\n"
   ]
  },
  {
   "cell_type": "code",
   "execution_count": 2,
   "id": "5bde68f6",
   "metadata": {},
   "outputs": [
    {
     "name": "stdout",
     "output_type": "stream",
     "text": [
      "/home/work/po/nanoGPT-master\n",
      "Overriding config with config/train_eunji.py:\n",
      "out_dir = 'out-eunji'\n",
      "eval_interval = 10\n",
      "log_interval = 1\n",
      "\n",
      "always_save_checkpoint = False\n",
      "\n",
      "dataset = '은지말'\n",
      "gradient_accumulation_steps = 1\n",
      "batch_size = 8\n",
      "block_size = 64\n",
      "n_layer = 4\n",
      "n_head = 4\n",
      "n_embd = 128\n",
      "max_iters = 500\n",
      "lr_decay_iters = 500\n",
      "dropout = 0.1\n",
      "\n",
      "learning_rate = 1e-3\n",
      "device = 'cpu'  # 은지는 지금 IPU 세션이니까 CPU로 지정해\n",
      "compile = False\n",
      "eval_iters = 20\n",
      "\n",
      "\n",
      "\n",
      "tokens per iteration will be: 512\n",
      "found vocab_size = 746 (inside data/은지말/meta.pkl)\n",
      "Initializing a new model from scratch\n",
      "number of parameters: 0.88M\n",
      "/usr/local/lib/python3.10/dist-packages/torch/cuda/amp/grad_scaler.py:125: UserWarning: torch.cuda.amp.GradScaler is enabled, but CUDA is not available.  Disabling.\n",
      "  warnings.warn(\n",
      "num decayed parameter tensors: 18, with 890,112 parameters\n",
      "num non-decayed parameter tensors: 9, with 1,152 parameters\n",
      "using fused AdamW: False\n",
      "Traceback (most recent call last):\n",
      "  File \"/home/work/po/nanoGPT-master/train.py\", line 250, in <module>\n",
      "    X, Y = get_batch('train') # fetch the very first batch\n",
      "  File \"/home/work/po/nanoGPT-master/train.py\", line 120, in get_batch\n",
      "    data = np.memmap(os.path.join(data_dir, 'train.bin'), dtype=np.uint16, mode='r')\n",
      "  File \"/usr/local/lib/python3.10/dist-packages/numpy/core/memmap.py\", line 267, in __new__\n",
      "    mm = mmap.mmap(fid.fileno(), bytes, access=acc, offset=start)\n",
      "ValueError: cannot mmap an empty file\n"
     ]
    }
   ],
   "source": [
    "%cd /home/work/po/nanoGPT-master\n",
    "!python3 train.py config/train_eunji.py\n"
   ]
  },
  {
   "cell_type": "code",
   "execution_count": 3,
   "id": "ebe6cb4a",
   "metadata": {},
   "outputs": [
    {
     "name": "stdout",
     "output_type": "stream",
     "text": [
      "-rw-r--r-- 1 work work 0 Apr 15 20:51 /home/work/po/nanoGPT-master/data/은지말/train.bin\r\n"
     ]
    }
   ],
   "source": [
    "!ls -lh /home/work/po/nanoGPT-master/data/은지말/train.bin\n"
   ]
  },
  {
   "cell_type": "code",
   "execution_count": 4,
   "id": "8b9a6c28",
   "metadata": {},
   "outputs": [
    {
     "name": "stdout",
     "output_type": "stream",
     "text": [
      "총 문자 수: 25476 / 고유 문자 수: 746\n"
     ]
    },
    {
     "ename": "ValueError",
     "evalue": "byte must be in range(0, 256)",
     "output_type": "error",
     "traceback": [
      "\u001b[0;31m---------------------------------------------------------------------------\u001b[0m",
      "\u001b[0;31mValueError\u001b[0m                                Traceback (most recent call last)",
      "Cell \u001b[0;32mIn[4], line 32\u001b[0m\n\u001b[1;32m     30\u001b[0m ids \u001b[38;5;241m=\u001b[39m [stoi[c] \u001b[38;5;28;01mfor\u001b[39;00m c \u001b[38;5;129;01min\u001b[39;00m data]\n\u001b[1;32m     31\u001b[0m \u001b[38;5;28;01mwith\u001b[39;00m \u001b[38;5;28mopen\u001b[39m(os\u001b[38;5;241m.\u001b[39mpath\u001b[38;5;241m.\u001b[39mjoin(output_dir, \u001b[38;5;124m\"\u001b[39m\u001b[38;5;124mtrain.bin\u001b[39m\u001b[38;5;124m\"\u001b[39m), \u001b[38;5;124m\"\u001b[39m\u001b[38;5;124mwb\u001b[39m\u001b[38;5;124m\"\u001b[39m) \u001b[38;5;28;01mas\u001b[39;00m f:\n\u001b[0;32m---> 32\u001b[0m     f\u001b[38;5;241m.\u001b[39mwrite(\u001b[38;5;28;43mbytearray\u001b[39;49m\u001b[43m(\u001b[49m\u001b[43mids\u001b[49m\u001b[43m)\u001b[49m)\n\u001b[1;32m     34\u001b[0m \u001b[38;5;28mprint\u001b[39m(\u001b[38;5;124m\"\u001b[39m\u001b[38;5;124m✅ 은지 GPT 훈련용 train.bin + meta.pkl 생성 완료!\u001b[39m\u001b[38;5;124m\"\u001b[39m)\n",
      "\u001b[0;31mValueError\u001b[0m: byte must be in range(0, 256)"
     ]
    }
   ],
   "source": [
    "import os\n",
    "import pickle\n",
    "\n",
    "input_file_path = \"/home/work/po/nanoGPT-master/data/은지말.txt\"\n",
    "output_dir = \"/home/work/po/nanoGPT-master/data/은지말\"\n",
    "os.makedirs(output_dir, exist_ok=True)\n",
    "\n",
    "# 텍스트 불러오기\n",
    "with open(input_file_path, \"r\", encoding=\"utf-8\") as f:\n",
    "    data = f.read()\n",
    "\n",
    "# 문자셋 정리\n",
    "chars = sorted(list(set(data)))\n",
    "vocab_size = len(chars)\n",
    "print(f\"총 문자 수: {len(data)} / 고유 문자 수: {vocab_size}\")\n",
    "\n",
    "stoi = {ch: i for i, ch in enumerate(chars)}\n",
    "itos = {i: ch for i, ch in enumerate(chars)}\n",
    "\n",
    "# 메타 저장\n",
    "meta = {\n",
    "    \"vocab_size\": vocab_size,\n",
    "    \"stoi\": stoi,\n",
    "    \"itos\": itos\n",
    "}\n",
    "with open(os.path.join(output_dir, \"meta.pkl\"), \"wb\") as f:\n",
    "    pickle.dump(meta, f)\n",
    "\n",
    "# train.bin 저장\n",
    "ids = [stoi[c] for c in data]\n",
    "with open(os.path.join(output_dir, \"train.bin\"), \"wb\") as f:\n",
    "    f.write(bytearray(ids))\n",
    "\n",
    "print(\"✅ 은지 GPT 훈련용 train.bin + meta.pkl 생성 완료!\")\n"
   ]
  },
  {
   "cell_type": "code",
   "execution_count": 5,
   "id": "9efabfdb",
   "metadata": {},
   "outputs": [
    {
     "name": "stdout",
     "output_type": "stream",
     "text": [
      "/home/work/po/nanoGPT-master\n",
      "Overriding config with config/train_eunji.py:\n",
      "out_dir = 'out-eunji'\n",
      "eval_interval = 10\n",
      "log_interval = 1\n",
      "\n",
      "always_save_checkpoint = False\n",
      "\n",
      "dataset = '은지말'\n",
      "gradient_accumulation_steps = 1\n",
      "batch_size = 8\n",
      "block_size = 64\n",
      "n_layer = 4\n",
      "n_head = 4\n",
      "n_embd = 128\n",
      "max_iters = 500\n",
      "lr_decay_iters = 500\n",
      "dropout = 0.1\n",
      "\n",
      "learning_rate = 1e-3\n",
      "device = 'cpu'  # 은지는 지금 IPU 세션이니까 CPU로 지정해\n",
      "compile = False\n",
      "eval_iters = 20\n",
      "\n",
      "\n",
      "\n",
      "tokens per iteration will be: 512\n",
      "found vocab_size = 746 (inside data/은지말/meta.pkl)\n",
      "Initializing a new model from scratch\n",
      "number of parameters: 0.88M\n",
      "/usr/local/lib/python3.10/dist-packages/torch/cuda/amp/grad_scaler.py:125: UserWarning: torch.cuda.amp.GradScaler is enabled, but CUDA is not available.  Disabling.\n",
      "  warnings.warn(\n",
      "num decayed parameter tensors: 18, with 890,112 parameters\n",
      "num non-decayed parameter tensors: 9, with 1,152 parameters\n",
      "using fused AdamW: False\n",
      "Traceback (most recent call last):\n",
      "  File \"/home/work/po/nanoGPT-master/train.py\", line 250, in <module>\n",
      "    X, Y = get_batch('train') # fetch the very first batch\n",
      "  File \"/home/work/po/nanoGPT-master/train.py\", line 120, in get_batch\n",
      "    data = np.memmap(os.path.join(data_dir, 'train.bin'), dtype=np.uint16, mode='r')\n",
      "  File \"/usr/local/lib/python3.10/dist-packages/numpy/core/memmap.py\", line 267, in __new__\n",
      "    mm = mmap.mmap(fid.fileno(), bytes, access=acc, offset=start)\n",
      "ValueError: cannot mmap an empty file\n"
     ]
    }
   ],
   "source": [
    "%cd /home/work/po/nanoGPT-master\n",
    "!python3 train.py config/train_eunji.py\n"
   ]
  },
  {
   "cell_type": "code",
   "execution_count": 6,
   "id": "e9704205",
   "metadata": {},
   "outputs": [
    {
     "name": "stdout",
     "output_type": "stream",
     "text": [
      "📝 입력 텍스트 길이: 25476자\n",
      "🔤 고유 문자 수: 746\n"
     ]
    },
    {
     "ename": "ValueError",
     "evalue": "byte must be in range(0, 256)",
     "output_type": "error",
     "traceback": [
      "\u001b[0;31m---------------------------------------------------------------------------\u001b[0m",
      "\u001b[0;31mValueError\u001b[0m                                Traceback (most recent call last)",
      "Cell \u001b[0;32mIn[6], line 34\u001b[0m\n\u001b[1;32m     32\u001b[0m ids \u001b[38;5;241m=\u001b[39m [stoi[c] \u001b[38;5;28;01mfor\u001b[39;00m c \u001b[38;5;129;01min\u001b[39;00m data]\n\u001b[1;32m     33\u001b[0m \u001b[38;5;28;01mwith\u001b[39;00m \u001b[38;5;28mopen\u001b[39m(os\u001b[38;5;241m.\u001b[39mpath\u001b[38;5;241m.\u001b[39mjoin(output_dir, \u001b[38;5;124m\"\u001b[39m\u001b[38;5;124mtrain.bin\u001b[39m\u001b[38;5;124m\"\u001b[39m), \u001b[38;5;124m\"\u001b[39m\u001b[38;5;124mwb\u001b[39m\u001b[38;5;124m\"\u001b[39m) \u001b[38;5;28;01mas\u001b[39;00m f:\n\u001b[0;32m---> 34\u001b[0m     f\u001b[38;5;241m.\u001b[39mwrite(\u001b[38;5;28;43mbytearray\u001b[39;49m\u001b[43m(\u001b[49m\u001b[43mids\u001b[49m\u001b[43m)\u001b[49m)\n\u001b[1;32m     36\u001b[0m \u001b[38;5;28mprint\u001b[39m(\u001b[38;5;124m\"\u001b[39m\u001b[38;5;124m✅ train.bin + meta.pkl 저장 완료!\u001b[39m\u001b[38;5;124m\"\u001b[39m)\n",
      "\u001b[0;31mValueError\u001b[0m: byte must be in range(0, 256)"
     ]
    }
   ],
   "source": [
    "import os\n",
    "import pickle\n",
    "\n",
    "input_file_path = \"/home/work/po/nanoGPT-master/data/은지말.txt\"\n",
    "output_dir = \"/home/work/po/nanoGPT-master/data/은지말\"\n",
    "os.makedirs(output_dir, exist_ok=True)\n",
    "\n",
    "with open(input_file_path, \"r\", encoding=\"utf-8\") as f:\n",
    "    data = f.read()\n",
    "\n",
    "# 텍스트 길이 확인\n",
    "print(f\"📝 입력 텍스트 길이: {len(data)}자\")\n",
    "\n",
    "# 문자셋 정리\n",
    "chars = sorted(list(set(data)))\n",
    "vocab_size = len(chars)\n",
    "print(f\"🔤 고유 문자 수: {vocab_size}\")\n",
    "\n",
    "stoi = {ch: i for i, ch in enumerate(chars)}\n",
    "itos = {i: ch for i, ch in enumerate(chars)}\n",
    "\n",
    "# meta 저장\n",
    "meta = {\n",
    "    \"vocab_size\": vocab_size,\n",
    "    \"stoi\": stoi,\n",
    "    \"itos\": itos\n",
    "}\n",
    "with open(os.path.join(output_dir, \"meta.pkl\"), \"wb\") as f:\n",
    "    pickle.dump(meta, f)\n",
    "\n",
    "# train.bin 저장\n",
    "ids = [stoi[c] for c in data]\n",
    "with open(os.path.join(output_dir, \"train.bin\"), \"wb\") as f:\n",
    "    f.write(bytearray(ids))\n",
    "\n",
    "print(\"✅ train.bin + meta.pkl 저장 완료!\")\n"
   ]
  },
  {
   "cell_type": "code",
   "execution_count": 7,
   "id": "87c526e7",
   "metadata": {},
   "outputs": [
    {
     "name": "stdout",
     "output_type": "stream",
     "text": [
      "/home/work/po/nanoGPT-master\n",
      "Overriding config with config/train_eunji.py:\n",
      "out_dir = 'out-eunji'\n",
      "eval_interval = 10\n",
      "log_interval = 1\n",
      "\n",
      "always_save_checkpoint = False\n",
      "\n",
      "dataset = '은지말'\n",
      "gradient_accumulation_steps = 1\n",
      "batch_size = 8\n",
      "block_size = 64\n",
      "n_layer = 4\n",
      "n_head = 4\n",
      "n_embd = 128\n",
      "max_iters = 500\n",
      "lr_decay_iters = 500\n",
      "dropout = 0.1\n",
      "\n",
      "learning_rate = 1e-3\n",
      "device = 'cpu'  # 은지는 지금 IPU 세션이니까 CPU로 지정해\n",
      "compile = False\n",
      "eval_iters = 20\n",
      "\n",
      "\n",
      "\n",
      "tokens per iteration will be: 512\n",
      "found vocab_size = 746 (inside data/은지말/meta.pkl)\n",
      "Initializing a new model from scratch\n",
      "number of parameters: 0.88M\n",
      "/usr/local/lib/python3.10/dist-packages/torch/cuda/amp/grad_scaler.py:125: UserWarning: torch.cuda.amp.GradScaler is enabled, but CUDA is not available.  Disabling.\n",
      "  warnings.warn(\n",
      "num decayed parameter tensors: 18, with 890,112 parameters\n",
      "num non-decayed parameter tensors: 9, with 1,152 parameters\n",
      "using fused AdamW: False\n",
      "Traceback (most recent call last):\n",
      "  File \"/home/work/po/nanoGPT-master/train.py\", line 250, in <module>\n",
      "    X, Y = get_batch('train') # fetch the very first batch\n",
      "  File \"/home/work/po/nanoGPT-master/train.py\", line 120, in get_batch\n",
      "    data = np.memmap(os.path.join(data_dir, 'train.bin'), dtype=np.uint16, mode='r')\n",
      "  File \"/usr/local/lib/python3.10/dist-packages/numpy/core/memmap.py\", line 267, in __new__\n",
      "    mm = mmap.mmap(fid.fileno(), bytes, access=acc, offset=start)\n",
      "ValueError: cannot mmap an empty file\n"
     ]
    }
   ],
   "source": [
    "%cd /home/work/po/nanoGPT-master\n",
    "!python3 train.py config/train_eunji.py\n"
   ]
  },
  {
   "cell_type": "code",
   "execution_count": 8,
   "id": "125f43eb",
   "metadata": {},
   "outputs": [
    {
     "name": "stdout",
     "output_type": "stream",
     "text": [
      "-rw-r--r-- 1 work work 0 Apr 15 20:53 /home/work/po/nanoGPT-master/data/은지말/train.bin\r\n"
     ]
    }
   ],
   "source": [
    "!ls -lh /home/work/po/nanoGPT-master/data/은지말/train.bin\n"
   ]
  },
  {
   "cell_type": "code",
   "execution_count": 9,
   "id": "688635ef",
   "metadata": {},
   "outputs": [
    {
     "name": "stdout",
     "output_type": "stream",
     "text": [
      "📝 입력된 문자 수: 105\n",
      "✅ train.bin + meta.pkl 생성 완료!\n"
     ]
    }
   ],
   "source": [
    "import os\n",
    "import pickle\n",
    "\n",
    "input_file_path = \"/home/work/po/nanoGPT-master/data/은지말.txt\"\n",
    "output_dir = \"/home/work/po/nanoGPT-master/data/은지말\"\n",
    "os.makedirs(output_dir, exist_ok=True)\n",
    "\n",
    "with open(input_file_path, \"r\", encoding=\"utf-8\") as f:\n",
    "    data = f.read()\n",
    "\n",
    "print(f\"📝 입력된 문자 수: {len(data)}\")\n",
    "\n",
    "chars = sorted(list(set(data)))\n",
    "stoi = {ch: i for i, ch in enumerate(chars)}\n",
    "itos = {i: ch for i, ch in enumerate(chars)}\n",
    "\n",
    "# meta 저장\n",
    "meta = {\n",
    "    \"vocab_size\": len(stoi),\n",
    "    \"stoi\": stoi,\n",
    "    \"itos\": itos,\n",
    "}\n",
    "with open(os.path.join(output_dir, \"meta.pkl\"), \"wb\") as f:\n",
    "    pickle.dump(meta, f)\n",
    "\n",
    "# train.bin 저장\n",
    "ids = [stoi[c] for c in data]\n",
    "with open(os.path.join(output_dir, \"train.bin\"), \"wb\") as f:\n",
    "    f.write(bytearray(ids))\n",
    "\n",
    "print(\"✅ train.bin + meta.pkl 생성 완료!\")\n"
   ]
  },
  {
   "cell_type": "code",
   "execution_count": 10,
   "id": "6dbd062f",
   "metadata": {},
   "outputs": [
    {
     "name": "stdout",
     "output_type": "stream",
     "text": [
      "/home/work/po/nanoGPT-master\n",
      "Overriding config with config/train_eunji.py:\n",
      "out_dir = 'out-eunji'\n",
      "eval_interval = 10\n",
      "log_interval = 1\n",
      "\n",
      "always_save_checkpoint = False\n",
      "\n",
      "dataset = '은지말'\n",
      "gradient_accumulation_steps = 1\n",
      "batch_size = 8\n",
      "block_size = 64\n",
      "n_layer = 4\n",
      "n_head = 4\n",
      "n_embd = 128\n",
      "max_iters = 500\n",
      "lr_decay_iters = 500\n",
      "dropout = 0.1\n",
      "\n",
      "learning_rate = 1e-3\n",
      "device = 'cpu'  # 은지는 지금 IPU 세션이니까 CPU로 지정해\n",
      "compile = False\n",
      "eval_iters = 20\n",
      "\n",
      "\n",
      "\n",
      "tokens per iteration will be: 512\n",
      "found vocab_size = 44 (inside data/은지말/meta.pkl)\n",
      "Initializing a new model from scratch\n",
      "number of parameters: 0.79M\n",
      "/usr/local/lib/python3.10/dist-packages/torch/cuda/amp/grad_scaler.py:125: UserWarning: torch.cuda.amp.GradScaler is enabled, but CUDA is not available.  Disabling.\n",
      "  warnings.warn(\n",
      "num decayed parameter tensors: 18, with 800,256 parameters\n",
      "num non-decayed parameter tensors: 9, with 1,152 parameters\n",
      "using fused AdamW: False\n",
      "Traceback (most recent call last):\n",
      "  File \"/home/work/po/nanoGPT-master/train.py\", line 250, in <module>\n",
      "    X, Y = get_batch('train') # fetch the very first batch\n",
      "  File \"/home/work/po/nanoGPT-master/train.py\", line 120, in get_batch\n",
      "    data = np.memmap(os.path.join(data_dir, 'train.bin'), dtype=np.uint16, mode='r')\n",
      "  File \"/usr/local/lib/python3.10/dist-packages/numpy/core/memmap.py\", line 239, in __new__\n",
      "    raise ValueError(\"Size of available data is not a \"\n",
      "ValueError: Size of available data is not a multiple of the data-type size.\n"
     ]
    }
   ],
   "source": [
    "%cd /home/work/po/nanoGPT-master\n",
    "!python3 train.py config/train_eunji.py\n"
   ]
  },
  {
   "cell_type": "code",
   "execution_count": null,
   "id": "1542423f",
   "metadata": {},
   "outputs": [],
   "source": []
  }
 ],
 "metadata": {
  "kernelspec": {
   "display_name": "PyTorch 2.1 (NGC 23.09/Python 3.10) on Backend.AI",
   "language": "python",
   "name": "python3"
  },
  "language_info": {
   "codemirror_mode": {
    "name": "ipython",
    "version": 3
   },
   "file_extension": ".py",
   "mimetype": "text/x-python",
   "name": "python",
   "nbconvert_exporter": "python",
   "pygments_lexer": "ipython3",
   "version": "3.10.12"
  }
 },
 "nbformat": 4,
 "nbformat_minor": 5
}
