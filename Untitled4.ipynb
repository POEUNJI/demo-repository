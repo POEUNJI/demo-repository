{
 "cells": [
  {
   "cell_type": "code",
   "execution_count": 1,
   "id": "b2b517da",
   "metadata": {},
   "outputs": [
    {
     "name": "stdout",
     "output_type": "stream",
     "text": [
      "Traceback (most recent call last):\r\n",
      "  File \"/home/work/po/nanoGPT-master/sample.py\", line 8, in <module>\r\n",
      "    import tiktoken\r\n",
      "ModuleNotFoundError: No module named 'tiktoken'\r\n"
     ]
    }
   ],
   "source": [
    "!python3 sample.py --out_dir=out-eunji --start=\"은지:\"\n"
   ]
  },
  {
   "cell_type": "code",
   "execution_count": null,
   "id": "c71afa08",
   "metadata": {},
   "outputs": [],
   "source": []
  }
 ],
 "metadata": {
  "kernelspec": {
   "display_name": "PyTorch 2.1 (NGC 23.09/Python 3.10) on Backend.AI",
   "language": "python",
   "name": "python3"
  },
  "language_info": {
   "codemirror_mode": {
    "name": "ipython",
    "version": 3
   },
   "file_extension": ".py",
   "mimetype": "text/x-python",
   "name": "python",
   "nbconvert_exporter": "python",
   "pygments_lexer": "ipython3",
   "version": "3.10.12"
  }
 },
 "nbformat": 4,
 "nbformat_minor": 5
}
